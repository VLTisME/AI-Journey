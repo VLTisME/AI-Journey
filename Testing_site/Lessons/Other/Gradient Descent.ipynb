{
 "cells": [
  {
   "cell_type": "code",
   "execution_count": 1,
   "metadata": {},
   "outputs": [],
   "source": [
    "import numpy as np\n",
    "import matplotlib.pyplot as plt"
   ]
  },
  {
   "cell_type": "markdown",
   "metadata": {},
   "source": [
    "## Gradient Descent level 1 - function with 1 variable\n",
    "#### 1. $f(x) = x^2 + 5sin(x) \\rightarrow f'(x) = 2x + 5cos(x)$"
   ]
  },
  {
   "cell_type": "code",
   "execution_count": 2,
   "metadata": {},
   "outputs": [
    {
     "name": "stdout",
     "output_type": "stream",
     "text": [
      "number of iterations: 11\n",
      " result = -3.246394262892074\n"
     ]
    }
   ],
   "source": [
    "def grad1(x):\n",
    "    return 2 * x + 5 * np.cos(x)\n",
    "\n",
    "def f1(x):\n",
    "    return x ** 2 + 5 * np.sin(x)\n",
    "\n",
    "def gd(x0, eta):\n",
    "    it = 0\n",
    "    for i in range(100):\n",
    "        x0 -= eta * grad1(x0)\n",
    "        if abs(grad1(x0)) < 1e-3:\n",
    "            break\n",
    "        it += 1\n",
    "    print(f\"number of iterations: {it}\\n result = {f1(x0)}\")\n",
    "\n",
    "gd(-5, 0.1)"
   ]
  },
  {
   "cell_type": "markdown",
   "metadata": {},
   "source": [
    "## Gradient Descent level 2 - Function with multiple variables\n",
    "### 2.\n",
    "$$  \n",
    "\\mathcal{L}(\\mathbf{w}) = \\frac{1}{2N} \\|\\mathbf{y} - \\mathbf{X}^T \\mathbf{w}\\|_2^2; \\quad   \n",
    "\\nabla_{\\mathbf{w}} \\mathcal{L}(\\mathbf{w}) = \\frac{1}{N} \\mathbf{X} \\left(\\mathbf{X}^T \\mathbf{w} - \\mathbf{y}\\right)  \n",
    "$$"
   ]
  },
  {
   "cell_type": "code",
   "execution_count": 3,
   "metadata": {},
   "outputs": [
    {
     "name": "stdout",
     "output_type": "stream",
     "text": [
      "[2.96534705] 4.012112950376677\n"
     ]
    }
   ],
   "source": [
    "from sklearn.linear_model import LinearRegression\n",
    "\n",
    "N = 1000\n",
    "X = np.random.randn(N, 1)\n",
    "y = 4 + 3 * X + .5 * np.random.randn(N, 1)\n",
    "#plt.plot(X, y, 'ro')\n",
    "\n",
    "lr = LinearRegression()\n",
    "lr.fit(X, y.reshape(-1))\n",
    "XX = np.linspace(-8 / lr.coef_, 13 / lr.intercept_, 2)\n",
    "yy = lr.coef_ * XX + lr.intercept_\n",
    "#plt.plot(XX, yy)\n",
    "print(lr.coef_, lr.intercept_)"
   ]
  },
  {
   "cell_type": "code",
   "execution_count": 4,
   "metadata": {},
   "outputs": [
    {
     "name": "stdout",
     "output_type": "stream",
     "text": [
      "(1000, 1)\n",
      "(1000, 1)\n",
      "(2, 1000)\n",
      "number of iterations = 2\n",
      " results are: 2.96527, 4.01210\n"
     ]
    }
   ],
   "source": [
    "## as above\n",
    "\n",
    "one = np.ones((N, 1))\n",
    "print(X.shape)\n",
    "print(one.shape)\n",
    "Xbar = np.concatenate((X, one), axis = 1).T\n",
    "print(Xbar.shape)\n",
    "\n",
    "def grad2(w):\n",
    "    return 1 / N * Xbar.dot(Xbar.T.dot(w) - y)\n",
    "# w = np.array([[3], [4]])\n",
    "# print(Xr.shape)\n",
    "\n",
    "def cost2(w):\n",
    "    return .5 / N * np.linalg.norm(y - Xbar.T.dot(w)) ** 2\n",
    "\n",
    "def gd2(w0, eta):\n",
    "    it = 0\n",
    "    for i in range(100):\n",
    "        tmp = grad2(w0)\n",
    "        w0 = w0 - eta * tmp\n",
    "        if np.linalg.norm(tmp) / len(tmp) < 1e-3:\n",
    "            it = i\n",
    "            break\n",
    "    print(f\"number of iterations = {it}\\n results are: {float(w0[0][0]):.5f}, {float(w0[1][0]):.5f}\")\n",
    "\n",
    "w = np.array([[2], [1]])\n",
    "gd2(w, 1)"
   ]
  },
  {
   "cell_type": "markdown",
   "metadata": {},
   "source": [
    "## Gradient Descent Level 3 - GD with momentum\n",
    "### 3\n",
    "$$\n",
    "f(x) = x ^ 2 + 10sin(x); \\quad\n",
    "f'(x) = 2x + 10cos(x)\n",
    "$$"
   ]
  },
  {
   "cell_type": "code",
   "execution_count": 5,
   "metadata": {},
   "outputs": [
    {
     "name": "stdout",
     "output_type": "stream",
     "text": [
      "number of iterations: 99\n",
      " result is: -1.3102051314532384\n"
     ]
    }
   ],
   "source": [
    "# # giải thích công thức:\n",
    "# ban đầu gradient dương nên cần đi ngược lại gradient tức là đi qua trái tức là trừ cho gradient, rồi tạm\n",
    "# thời lưu v1 = gradient\n",
    "# thời điểm thứ 2 vẫn còn xuống dốc nên ta cần xuống dốc nhanh hơn lúc đầu do có đà -> tạm thời cứ trừ cho \n",
    "# gradient vì gradient dương, sau đó trừ thêm thằng v1 nữa, coi như là \"đà\", và v1 cũng dương \n",
    "# -> trừ gradient tại đó rồi còn trừ tiếp gradient lúc trước (aka đà) -> xuống dốc càng nhanh hơn nữa\n",
    "# -> từ đó có công thức: w = w - (v_before + gradient); v_before += gradient (thêm tham số lr và theta vào nữa)\n",
    "# -> this was my old method used in CP to suy ra nghiem/ cong thuc tong quat\n",
    "# tuc la nhap' ra mot vai trang thai dau tien xong suy ra cong thuc tong quat :DDD\n",
    "\n",
    "def grad3(x):\n",
    "    return 2 * x + 10 * np.cos(x)\n",
    "\n",
    "def cost(x):\n",
    "    return x ** 2 + 10 * np.sin(x)\n",
    "\n",
    "def gd3(x0, eta, gamma):\n",
    "    it = 0\n",
    "    v_before = 0\n",
    "    for i in range(100):\n",
    "        gg = grad3(x0)\n",
    "        v_new = gamma * v_before + eta * gg\n",
    "        x0 = x0 - v_new\n",
    "        v_before = v_new\n",
    "        it = i\n",
    "        if abs(grad3(x0)) < 1e-3:\n",
    "            break\n",
    "    print(f\"number of iterations: {it}\\n result is: {x0}\")\n",
    "\n",
    "gd3(5, 0.1, 0.9)"
   ]
  },
  {
   "cell_type": "markdown",
   "metadata": {},
   "source": [
    "## Gradient Descent level 4 - Nesterove momentum\n",
    "### still the same func as above"
   ]
  },
  {
   "cell_type": "code",
   "execution_count": 6,
   "metadata": {},
   "outputs": [
    {
     "name": "stdout",
     "output_type": "stream",
     "text": [
      "number of iterations: 19\n",
      " result is: -1.3064958850789337\n"
     ]
    }
   ],
   "source": [
    "# # giải thích công thức:\n",
    "# NAG thì thay vì v_now = gamma * v_before + eta * gradient_cur thì thay gradient_cur bằng gradient_future\n",
    "# vì gradient_future ~ gradient(w - gamma * v_before)\n",
    "def grad3(x):\n",
    "    return 2 * x + 10 * np.cos(x)\n",
    "\n",
    "def cost(x):\n",
    "    return x ** 2 + 10 * np.sin(x)\n",
    "\n",
    "def gd3(x0, eta, gamma):\n",
    "    it = 0\n",
    "    v_before = 0\n",
    "    for i in range(100):\n",
    "        gg = grad3(x0)\n",
    "        gg_future = grad3(x0 - gamma * v_before)\n",
    "        v_new = gamma * v_before + eta * gg_future\n",
    "        x0 = x0 - v_new\n",
    "        v_before = v_new\n",
    "        it = i\n",
    "        if abs(grad3(x0)) < 1e-3:\n",
    "            break\n",
    "    print(f\"number of iterations: {it}\\n result is: {x0}\")\n",
    "\n",
    "gd3(5, 0.1, 0.9)"
   ]
  },
  {
   "cell_type": "markdown",
   "metadata": {},
   "source": [
    "## Gradient Descent level 5 - Stochastic Gradient Descent\n",
    "### 5. \n",
    "$$\n",
    "\\mathcal{L} (\\mathbf{w}) = \\frac{1}{2N} \\|\\mathbf{y} - \\mathbf{X}^T \\mathbf{w}\\|; \\quad\n",
    "\\nabla_{\\mathbf{w}} \\mathcal{L}(\\mathbf{w}) = \\frac{1}{N} \\mathbf{X} (\\mathbf{X} ^ T \\mathbf{w} - \\mathbf{y})\n",
    "$$\n"
   ]
  },
  {
   "cell_type": "code",
   "execution_count": 7,
   "metadata": {},
   "outputs": [
    {
     "name": "stdout",
     "output_type": "stream",
     "text": [
      "(1000, 1) (1000, 1)\n",
      "[3.0034319] 4.009751029089105\n"
     ]
    },
    {
     "data": {
      "image/png": "[encoded data removed]",
      "text/plain": [
       "<Figure size 640x480 with 1 Axes>"
      ]
     },
     "metadata": {},
     "output_type": "display_data"
    }
   ],
   "source": [
    "N = 1000\n",
    "# X = np.random.rand(N, 1)\n",
    "# y = 4 + 3 * X + np.random.rand(N, 1) * .5\n",
    "# cov = [[8, -4], [-4, 11]]\n",
    "# yy = np.random.multivariate_normal((5, 5), cov, N)\n",
    "# #plt.plot(X, y, 'ro')\n",
    "# plt.plot(yy[:, 0], yy[:, 1], 'b^')\n",
    "\n",
    "# X = yy[:, 0]\n",
    "# y = yy[:, 1]\n",
    "# X = X.reshape(X.shape[0], 1)\n",
    "# lr = LinearRegression(fit_intercept = True).fit(X, y)\n",
    "# XXX = np.linspace(X.min(), X.max(), 2)\n",
    "# yyy = lr.coef_[0] * XXX + lr.intercept_\n",
    "# plt.plot(XXX, yyy, 'r-')\n",
    "# print(lr.coef_[0], lr.intercept_)\n",
    "\n",
    "\n",
    "#############\n",
    "\n",
    "\n",
    "\n",
    "X = np.random.randn(N, 1)\n",
    "y = 3 * X + 4 + .5 * np.random.randn(N, 1)\n",
    "print(X.shape, y.shape)\n",
    "plt.plot(X, y, 'ro')\n",
    "\n",
    "lr = LinearRegression(fit_intercept = True).fit(X, y.reshape(-1))\n",
    "print(lr.coef_, lr.intercept_)"
   ]
  },
  {
   "cell_type": "code",
   "execution_count": 56,
   "metadata": {},
   "outputs": [
    {
     "name": "stdout",
     "output_type": "stream",
     "text": [
      "(1000, 2) (1000, 1)\n",
      "(3231, array([[3.17385139],\n",
      "       [4.01009387]]))\n"
     ]
    }
   ],
   "source": [
    "one = np.ones((1000, 1))\n",
    "Xbar = np.concatenate((X, one), axis = 1)\n",
    "print(Xbar.shape, y.shape)\n",
    "\n",
    "def grad5(i, w):\n",
    "    x = Xbar[i].reshape((2, 1))\n",
    "    return x.dot(x.T.dot(w) - y[i].reshape(1, 1))\n",
    "# w = np.array([[2], [1]])\n",
    "\n",
    "# print(grad5(3, w).shape)\n",
    "\n",
    "def gd5(w0, eta):\n",
    "    it = 0\n",
    "    for epoch in range(10):\n",
    "        rd_id = np.random.permutation(N)\n",
    "        for i in range(N):\n",
    "            it += 1\n",
    "            tmp = grad5(rd_id[i], w0)\n",
    "            w0 = w0 - eta * tmp\n",
    "            if it > 2000 and np.linalg.norm(grad5(rd_id[i], w0)) < 1e-3:\n",
    "                return it, w0\n",
    "    return it, w0\n",
    "\n",
    "w0 = np.array([[2], [1]])\n",
    "print(gd5(w0, 0.1))"
   ]
  },
  {
   "cell_type": "markdown",
   "metadata": {},
   "source": [
    "## Gradient Descent level 6 - Mini-batch Gradient Descent\n",
    "### take the Linear Regression in 5"
   ]
  },
  {
   "cell_type": "code",
   "execution_count": 58,
   "metadata": {},
   "outputs": [
    {
     "name": "stdout",
     "output_type": "stream",
     "text": [
      "(1000, 1) (1000, 1)\n",
      "[3.01075665] 4.0002642723177475\n"
     ]
    },
    {
     "data": {
      "text/plain": [
       "[<matplotlib.lines.Line2D at 0x1510d6a9a30>]"
      ]
     },
     "execution_count": 58,
     "metadata": {},
     "output_type": "execute_result"
    },
    {
     "data": {
      "image/png": "[encoded data removed]",
      "text/plain": [
       "<Figure size 640x480 with 1 Axes>"
      ]
     },
     "metadata": {},
     "output_type": "display_data"
    }
   ],
   "source": [
    "\n",
    "X = np.random.randn(N, 1)\n",
    "y = 3 * X + 4 + .5 * np.random.randn(N, 1)\n",
    "print(X.shape, y.shape)\n",
    "plt.plot(X, y, 'ro')\n",
    "\n",
    "lr = LinearRegression(fit_intercept = True).fit(X, y.reshape(-1))\n",
    "print(lr.coef_, lr.intercept_)\n",
    "lx = np.linspace(X.min(), X.max(), 2)\n",
    "ly = lx * lr.coef_[0] + lr.intercept_\n",
    "plt.plot(lx, ly, 'b-')"
   ]
  },
  {
   "cell_type": "code",
   "execution_count": 122,
   "metadata": {},
   "outputs": [
    {
     "name": "stdout",
     "output_type": "stream",
     "text": [
      "(1000, 2) (1000, 1)\n",
      "(1950, array([[2.98516285],\n",
      "       [3.9515821 ]]))\n"
     ]
    }
   ],
   "source": [
    "one = np.ones((1000, 1))\n",
    "Xbar = np.concatenate((X, one), axis = 1)\n",
    "print(Xbar.shape, y.shape)\n",
    "\n",
    "def grad5(rd_id, w, st, en):\n",
    "    x = Xbar[rd_id[st : en + 1], :].T\n",
    "    return 1 / (en - st + 1) * x.dot(x.T.dot(w) - y[rd_id[st : en + 1]].reshape(en - st + 1, 1))\n",
    "# w = np.array([[2], [1]])\n",
    "\n",
    "# print(grad5(3, w).shape)\n",
    "\n",
    "def gd5(w0, eta, theta):\n",
    "    it = 0\n",
    "    for epoch in range(10):\n",
    "        rd_id = np.random.permutation(N)\n",
    "        cnt = 0\n",
    "        st = 0\n",
    "        v_old = np.array([[0], [0]])\n",
    "        for i in range(N):\n",
    "            cnt += 1\n",
    "            it += 1\n",
    "            if cnt == 50 or i == N - 1:\n",
    "                cnt = 0\n",
    "                tmp = grad5(rd_id, w0 - theta * v_old, st, i)\n",
    "                v_new = theta * v_old + eta * tmp\n",
    "                w0 = w0 - v_new\n",
    "                if it > 1000 and np.linalg.norm(grad5(rd_id, w0, st, i)) < 1e-2:\n",
    "                    return it, w0\n",
    "                st = i + 1\n",
    "    return it, w0\n",
    "\n",
    "w0 = np.array([[2], [1]])\n",
    "print(gd5(w0, 0.1, 0.9))"
   ]
  }
 ],
 "metadata": {
  "kernelspec": {
   "display_name": "Python 3",
   "language": "python",
   "name": "python3"
  },
  "language_info": {
   "codemirror_mode": {
    "name": "ipython",
    "version": 3
   },
   "file_extension": ".py",
   "mimetype": "text/x-python",
   "name": "python",
   "nbconvert_exporter": "python",
   "pygments_lexer": "ipython3",
   "version": "3.12.0"
  }
 },
 "nbformat": 4,
 "nbformat_minor": 2
}
