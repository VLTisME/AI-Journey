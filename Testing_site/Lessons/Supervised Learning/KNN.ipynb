{
 "cells": [
  {
   "cell_type": "code",
   "execution_count": 1,
   "metadata": {},
   "outputs": [],
   "source": [
    "import numpy as np\n",
    "import matplotlib.pyplot as plt\n",
    "from time import time\n",
    "from scipy.spatial.distance import cdist\n",
    "\n",
    "d, N = 1000, 10000\n",
    "X = np.random.randn(N, d)\n",
    "z = np.random.randn(1, d)"
   ]
  },
  {
   "cell_type": "code",
   "execution_count": 2,
   "metadata": {},
   "outputs": [
    {
     "name": "stdout",
     "output_type": "stream",
     "text": [
      "[8073] time = 0.01617264747619629\n"
     ]
    }
   ],
   "source": [
    "t1 = time()\n",
    "D = cdist(X, z)\n",
    "D.shape\n",
    "print(np.argmin(D, axis = 0), f\"time = {time() - t1}\")"
   ]
  },
  {
   "cell_type": "code",
   "execution_count": 88,
   "metadata": {},
   "outputs": [],
   "source": [
    "from sklearn import datasets\n",
    "from sklearn.neighbors import KNeighborsClassifier\n",
    "import matplotlib.pyplot as plt\n",
    "import matplotlib.image as mpimg\n",
    "from sklearn.model_selection import train_test_split\n",
    "from sklearn.metrics import accuracy_score\n",
    "\n",
    "iris_X, iris_y = datasets.load_iris(return_X_y = True)\n",
    "\n",
    "def my_weight(distances):\n",
    "    sigma2 = .4\n",
    "    return np.exp(-distances / sigma2**2)"
   ]
  },
  {
   "cell_type": "code",
   "execution_count": 92,
   "metadata": {},
   "outputs": [
    {
     "name": "stdout",
     "output_type": "stream",
     "text": [
      "Accuracy is: 95.38%\n"
     ]
    }
   ],
   "source": [
    "X_train, X_test, y_train, y_test = train_test_split(iris_X, iris_y, test_size = 130)\n",
    "knn = KNeighborsClassifier(n_neighbors = 7, p = 2, weights = my_weight)\n",
    "knn.fit(X_train, y_train)\n",
    "pred_label = knn.predict(X_test)\n",
    "print(f\"Accuracy is: {100 * accuracy_score(y_test, pred_label):.2f}%\")"
   ]
  }
 ],
 "metadata": {
  "kernelspec": {
   "display_name": "Python 3",
   "language": "python",
   "name": "python3"
  },
  "language_info": {
   "codemirror_mode": {
    "name": "ipython",
    "version": 3
   },
   "file_extension": ".py",
   "mimetype": "text/x-python",
   "name": "python",
   "nbconvert_exporter": "python",
   "pygments_lexer": "ipython3",
   "version": "3.12.0"
  }
 },
 "nbformat": 4,
 "nbformat_minor": 2
}
