{
 "cells": [
  {
   "cell_type": "markdown",
   "metadata": {
    "vscode": {
     "languageId": "latex"
    }
   },
   "source": [
    "$$\n",
    "f'(x) \\approx \\frac{f(x+\\epsilon) - f(x)}{\\epsilon}   \n",
    "\\approx f'(x) + \\frac{f''(x)}{2}\\epsilon + \\cdots = f'(x) + O(\\epsilon).  \n",
    "$$  \n",
    "\n",
    "$$  \n",
    "f'(x) \\approx \\frac{f(x+\\epsilon) - f(x-\\epsilon)}{2\\epsilon}   \n",
    "\\approx f'(x) + \\frac{f^{(3)}(x)}{6} \\epsilon^2 + \\cdots = f'(x) + O(\\epsilon^2).  \n",
    "$$"
   ]
  },
  {
   "cell_type": "code",
   "execution_count": 10,
   "metadata": {},
   "outputs": [],
   "source": [
    "import numpy as np"
   ]
  },
  {
   "cell_type": "markdown",
   "metadata": {},
   "source": [
    "Below is an example of $f(X) = \\operatorname{trace}(AX)$ with respect to $X$,  \n",
    "given that $f'(X) = A^T$.\n",
    "because $\\operatorname{trace}(AX)$ is a scalar, while $X$ is a matrix $\\rightarrow$ the result is a matrix\n",
    "with each entry is how $X_i,_j$ affects the scalar $\\rightarrow$ increasing $X_i,_j$ a little bit to see how it changes the scalar"
   ]
  },
  {
   "cell_type": "code",
   "execution_count": 16,
   "metadata": {},
   "outputs": [
    {
     "name": "stdout",
     "output_type": "stream",
     "text": [
      "Diff = 2.9414245764408592e-08\n"
     ]
    }
   ],
   "source": [
    "def XX(fn, gr, X): # xap xi\n",
    "    X_flat = X.reshape(-1)\n",
    "    X_xx = np.zeros_like(X_flat)\n",
    "    eps = 1e-6\n",
    "    for i in range(X_flat.shape[0]):\n",
    "        X_plus = X_flat.copy()\n",
    "        X_minus = X_flat.copy()\n",
    "        X_plus[i] += eps\n",
    "        X_minus[i] -= eps\n",
    "        X_xx[i] = (fn(X_plus.reshape(X.shape)) - fn(X_minus.reshape(X.shape))) / (2 * eps)\n",
    "    X_xx = X_xx.reshape(X.shape)\n",
    "    diff = np.linalg.norm(gr(X) - X_xx)\n",
    "    print(f\"Diff = {diff}\")\n",
    "    \n",
    "\n",
    "m, n = 10, 20\n",
    "A = np.random.rand(m, n)\n",
    "X = np.random.rand(n, m)\n",
    "\n",
    "def fn1(X):\n",
    "    return np.trace(np.dot(A, X))\n",
    "\n",
    "def gr1(X):\n",
    "    return A.T\n",
    "\n",
    "XX(fn1, gr1, X)"
   ]
  },
  {
   "cell_type": "code",
   "execution_count": null,
   "metadata": {},
   "outputs": [],
   "source": []
  }
 ],
 "metadata": {
  "kernelspec": {
   "display_name": "Python 3",
   "language": "python",
   "name": "python3"
  },
  "language_info": {
   "codemirror_mode": {
    "name": "ipython",
    "version": 3
   },
   "file_extension": ".py",
   "mimetype": "text/x-python",
   "name": "python",
   "nbconvert_exporter": "python",
   "pygments_lexer": "ipython3",
   "version": "3.12.0"
  }
 },
 "nbformat": 4,
 "nbformat_minor": 2
}
